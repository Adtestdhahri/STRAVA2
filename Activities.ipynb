{
  "nbformat": 4,
  "nbformat_minor": 0,
  "metadata": {
    "colab": {
      "provenance": [],
      "mount_file_id": "1hOBWbFHoY5bHMZhLKMEig0IylXzomr1H",
      "authorship_tag": "ABX9TyPcdE3o6nY8ix23GuFmEtRi",
      "include_colab_link": true
    },
    "kernelspec": {
      "name": "python3",
      "display_name": "Python 3"
    },
    "language_info": {
      "name": "python"
    }
  },
  "cells": [
    {
      "cell_type": "markdown",
      "metadata": {
        "id": "view-in-github",
        "colab_type": "text"
      },
      "source": [
        "<a href=\"https://colab.research.google.com/github/Adtestdhahri/STRAVA2/blob/main/Activities.ipynb\" target=\"_parent\"><img src=\"https://colab.research.google.com/assets/colab-badge.svg\" alt=\"Open In Colab\"/></a>"
      ]
    },
    {
      "cell_type": "code",
      "source": [
        "# 1. Install required packages (if not already installed)\n",
        "!pip install requests pandas openpyxl --quiet\n",
        "\n",
        "from google.colab import drive\n",
        "drive.mount('/content/drive')\n",
        "\n",
        "import requests\n",
        "import pandas as pd\n",
        "import os\n",
        "\n",
        "# 2. Refresh Strava access token\n",
        "client_id = \"46165\"\n",
        "client_secret = \"578c7d816b7e7897edbf885b66204c674738ff42\"\n",
        "refresh_token = \"8a4c424f7fdd2d33c968fc9a31e0c63ff141b89b\"\n",
        "refresh_url = \"https://www.strava.com/oauth/token\"\n",
        "payload = {\n",
        "    'client_id': client_id,\n",
        "    'client_secret': client_secret,\n",
        "    'grant_type': 'refresh_token',\n",
        "    'refresh_token': refresh_token\n",
        "}\n",
        "token_resp = requests.post(refresh_url, data=payload)\n",
        "token_resp.raise_for_status()\n",
        "tokens = token_resp.json()\n",
        "access_token = tokens['access_token']\n",
        "headers = {'Authorization': f'Bearer {access_token}'}\n",
        "\n",
        "# 3. Fetch all athlete activities (paginated)\n",
        "activities_url = 'https://www.strava.com/api/v3/athlete/activities'\n",
        "params = {'per_page': 100, 'page': 1}\n",
        "activities = []\n",
        "while True:\n",
        "    resp = requests.get(activities_url, headers=headers, params=params)\n",
        "    resp.raise_for_status()\n",
        "    data = resp.json()\n",
        "    if not data:\n",
        "        break\n",
        "    activities.extend(data)\n",
        "    params['page'] += 1\n",
        "\n",
        "# 4. Convert to pandas DataFrame\n",
        "df_athlete = pd.json_normalize(activities)\n",
        "\n",
        "# 5. Extract lat/lng and convert dates\n",
        "df_athlete['start_lat'] = df_athlete['start_latlng'].apply(lambda x: x[0] if isinstance(x, list) and len(x) > 0 else None)\n",
        "df_athlete['start_lng'] = df_athlete['start_latlng'].apply(lambda x: x[1] if isinstance(x, list) and len(x) > 1 else None)\n",
        "df_athlete['end_lat'] = df_athlete['end_latlng'].apply(lambda x: x[0] if isinstance(x, list) and len(x) > 0 else None)\n",
        "df_athlete['end_lng'] = df_athlete['end_latlng'].apply(lambda x: x[1] if isinstance(x, list) and len(x) > 1 else None)\n",
        "df_athlete['start_date_local'] = pd.to_datetime(df_athlete['start_date_local'])\n",
        "\n",
        "# 6. Create cleaned DataFrame by dropping unsupported columns\n",
        "df_athlete_clean = df_athlete.drop(columns=[\n",
        "    'location_city', 'location_state', 'location_country',\n",
        "    'start_latlng', 'end_latlng'\n",
        "], errors='ignore')\n",
        "\n",
        "# 7. Define local Drive folder path and ensure it exists\n",
        "drive_folder = os.path.expanduser(\"/content/drive/MyDrive/StravaProjectData\")\n",
        "os.makedirs(drive_folder, exist_ok=True)\n",
        "\n",
        "# 8. Write df_athlete to its own Excel file\n",
        "excel_path_1 = os.path.join(drive_folder, \"athlete_activities_raw.csv\")\n",
        "df_athlete.to_csv(excel_path_1, index=False)\n",
        "\n",
        "# 9. Write df_athlete_clean to its own Excel file\n",
        "excel_path_2 = os.path.join(drive_folder, \"athlete_activities_clean.csv\")\n",
        "df_athlete_clean.to_csv(excel_path_2, index=False)\n",
        "\n",
        "print(\"✅ Files written to Drive (local path):\")\n",
        "print(f\"   Raw activities → {excel_path_1}\")\n",
        "print(f\"   Cleaned activities → {excel_path_2}\")\n"
      ],
      "metadata": {
        "colab": {
          "base_uri": "https://localhost:8080/"
        },
        "id": "1ZV6OWye5tnL",
        "outputId": "7924570b-4094-4c74-944e-dd0449c349d0"
      },
      "execution_count": null,
      "outputs": [
        {
          "output_type": "stream",
          "name": "stdout",
          "text": [
            "Drive already mounted at /content/drive; to attempt to forcibly remount, call drive.mount(\"/content/drive\", force_remount=True).\n",
            "✅ Files written to Drive (local path):\n",
            "   Raw activities → /root/drive/MyDrive/StravaProjectData/athlete_activities_raw.csv\n",
            "   Cleaned activities → /root/drive/MyDrive/StravaProjectData/athlete_activities_clean.csv\n"
          ]
        }
      ]
    },
    {
      "cell_type": "code",
      "source": [
        "# 1. Install dependencies\n",
        "!pip install gspread pandas --quiet\n",
        "\n",
        "# 2. Authenticate your Google user (runs an OAuth flow)\n",
        "from google.colab import auth\n",
        "auth.authenticate_user()\n",
        "\n",
        "import gspread\n",
        "from google.auth import default\n",
        "\n",
        "creds, _ = default()\n",
        "gc = gspread.authorize(creds)\n",
        "\n",
        "# 3. Read the existing CSV files into pandas DataFrames\n",
        "import pandas as pd\n",
        "import numpy as np\n",
        "\n",
        "# Adjust these paths if your CSVs are located elsewhere\n",
        "raw_csv_path   = \"drive/MyDrive/StravaProjectData/athlete_activities_raw.csv\"\n",
        "clean_csv_path = \"drive/MyDrive/StravaProjectData/athlete_activities_clean.csv\"\n",
        "\n",
        "df_raw   = pd.read_csv(raw_csv_path)\n",
        "df_clean = pd.read_csv(clean_csv_path)\n",
        "\n",
        "# 4. Replace any NaN or infinite values (Sheets won’t accept them)\n",
        "def sanitize_df(df: pd.DataFrame) -> pd.DataFrame:\n",
        "    df2 = df.replace([np.inf, -np.inf], np.nan).fillna(\"\")\n",
        "    # Convert numpy types → native Python types\n",
        "    for col in df2.columns:\n",
        "        if pd.api.types.is_integer_dtype(df2[col].dtype) or pd.api.types.is_float_dtype(df2[col].dtype):\n",
        "            df2[col] = df2[col].astype(object).where(df2[col] != \"\", df2[col])\n",
        "    return df2\n",
        "\n",
        "df_raw_safe   = sanitize_df(df_raw)\n",
        "df_clean_safe = sanitize_df(df_clean)\n",
        "\n",
        "# 5. Create a new Google Sheet and add two worksheets\n",
        "spreadsheet = gc.create(\"Strava Activities from CSV\")\n",
        "\n",
        "# Rename default sheet to \"Raw_Activities\"\n",
        "worksheet_raw = spreadsheet.sheet1\n",
        "worksheet_raw.update_title(\"Raw_Activities\")\n",
        "\n",
        "# Add a second tab named \"Cleaned_Activities\"\n",
        "worksheet_clean = spreadsheet.add_worksheet(title=\"Cleaned_Activities\", rows=\"1000\", cols=\"20\")\n",
        "\n",
        "# 6. Helper to batch‐write a DataFrame into its worksheet\n",
        "def df_to_worksheet(df: pd.DataFrame, worksheet):\n",
        "    headers = df.columns.tolist()\n",
        "    rows    = df.values.tolist()\n",
        "    data    = [headers] + rows\n",
        "\n",
        "    n_rows = len(data)\n",
        "    n_cols = len(headers)\n",
        "    worksheet.resize(rows=n_rows, cols=n_cols)\n",
        "\n",
        "    cell_list = worksheet.range(1, 1, n_rows, n_cols)\n",
        "    flat_values = [item for sublist in data for item in sublist]\n",
        "\n",
        "    for i, val in enumerate(flat_values):\n",
        "        cell_list[i].value = val\n",
        "\n",
        "    worksheet.update_cells(cell_list)\n",
        "\n",
        "# 7. Write both DataFrames to their respective tabs\n",
        "df_to_worksheet(df_raw_safe, worksheet_raw)\n",
        "df_to_worksheet(df_clean_safe, worksheet_clean)\n",
        "\n",
        "print(\"✅ CSVs have been converted to Google Sheets:\")\n",
        "print(f\"  • Raw data tab → {spreadsheet.url}#gid={worksheet_raw.id}\")\n",
        "print(f\"  • Cleaned data tab → {spreadsheet.url}#gid={worksheet_clean.id}\")"
      ],
      "metadata": {
        "colab": {
          "base_uri": "https://localhost:8080/"
        },
        "id": "RTLUgQDHAFRQ",
        "outputId": "de009423-d574-41f1-9b16-871d51530157"
      },
      "execution_count": null,
      "outputs": [
        {
          "output_type": "stream",
          "name": "stdout",
          "text": [
            "✅ CSVs have been converted to Google Sheets:\n",
            "  • Raw data tab → https://docs.google.com/spreadsheets/d/1FCK4D3CT31hS2AdYN_9HNeZUF3LRarl0QNe9VLrSttk#gid=0\n",
            "  • Cleaned data tab → https://docs.google.com/spreadsheets/d/1FCK4D3CT31hS2AdYN_9HNeZUF3LRarl0QNe9VLrSttk#gid=781298523\n"
          ]
        }
      ]
    }
  ]
}